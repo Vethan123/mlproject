{
  "nbformat": 4,
  "nbformat_minor": 0,
  "metadata": {
    "colab": {
      "provenance": [],
      "mount_file_id": "1ii1xwUPBCB7XU91FD0gqks0D_1-dYDB_",
      "authorship_tag": "ABX9TyO2dSqURqUwYoq1vwe5xIVY",
      "include_colab_link": true
    },
    "kernelspec": {
      "name": "python3",
      "display_name": "Python 3"
    },
    "language_info": {
      "name": "python"
    }
  },
  "cells": [
    {
      "cell_type": "markdown",
      "metadata": {
        "id": "view-in-github",
        "colab_type": "text"
      },
      "source": [
        "<a href=\"https://colab.research.google.com/github/Vethan123/mlproject/blob/main/murthy_sir_work.ipynb\" target=\"_parent\"><img src=\"https://colab.research.google.com/assets/colab-badge.svg\" alt=\"Open In Colab\"/></a>"
      ]
    },
    {
      "cell_type": "code",
      "execution_count": null,
      "metadata": {
        "id": "npiBnm-zQf3D"
      },
      "outputs": [],
      "source": [
        "import pandas as pd\n",
        "import matplotlib.pyplot as plt\n",
        "import numpy as np\n",
        "import math\n",
        "import random\n",
        "import bisect\n",
        "from collections import OrderedDict\n",
        "import seaborn as sns\n",
        "%matplotlib inline"
      ]
    },
    {
      "cell_type": "code",
      "source": [
        "#Let p1 be point -> [x1,y1]\n",
        "#Let p2 be point -> [x2,y2]\n",
        "def distance_between_two_points(p1,p2):\n",
        "  return ((p2[0] - p1[0])**2 + (p2[1] - p1[1])**2)**0.5\n"
      ],
      "metadata": {
        "id": "iKKB9FKrjrJD"
      },
      "execution_count": null,
      "outputs": []
    },
    {
      "cell_type": "code",
      "source": [
        "#this function takes array and target element as input and returns index of element which is greater than previous one\n",
        "def search(arr, target):\n",
        "  arr1 = sorted(arr)\n",
        "  pos = bisect.bisect_right(arr1, target)\n",
        "  if pos==len(arr1):\n",
        "    return target\n",
        "  else:\n",
        "    return arr1[pos]"
      ],
      "metadata": {
        "id": "f8FJTEfRHUhk"
      },
      "execution_count": null,
      "outputs": []
    },
    {
      "cell_type": "code",
      "source": [
        "# This function calculates outlier range of an array using IQR values\n",
        "# This returns a 1d array of lower boundary and upper boundary\n",
        "def outlier_range(array):\n",
        "  q1 = np.percentile(array,25)\n",
        "  q3 = np.percentile(array,75)\n",
        "\n",
        "  IQR = q3 - q1\n",
        "\n",
        "  lower_bound = q1 - (1.5*IQR)\n",
        "  upper_bound = q1 + (1.5*IQR)\n",
        "\n",
        "  return [lower_bound,upper_bound]"
      ],
      "metadata": {
        "id": "YT5QZKaz8DX6"
      },
      "execution_count": null,
      "outputs": []
    },
    {
      "cell_type": "code",
      "source": [
        "#points array should be 2d that is in format of [[x,y],[a,b]...]\n",
        "#centroid array should be 1d\n",
        "#if some set of points are mapped to a centroid point then this process will be easy\n",
        "#let dic = {0 : [[p1,p2],[p3,p4]] , 1 : [[p5,p6],[p7,p8]] , ....}\n",
        "#let centroids array be [[c1,c2],[c3,c4],....]\n",
        "#returned array will be nested list\n",
        "\n",
        "def distance_from_centroid(dic,centroid):\n",
        "  distances = []\n",
        "  for i in dic.keys():\n",
        "    temparr=[]\n",
        "    for j in dic[i]:\n",
        "      temparr.append(distance_between_two_points(j,centroid[i]))\n",
        "    distances.append(temparr)\n",
        "  return distances"
      ],
      "metadata": {
        "id": "vm2tKkvt8EJt"
      },
      "execution_count": null,
      "outputs": []
    },
    {
      "cell_type": "code",
      "source": [
        "#distances array should be 2d -> [[distances array of cluster 1],[distances array of cluster 2]....]\n",
        "def mean(distances):\n",
        "  mean_of_distances=[]\n",
        "  for i in distances:\n",
        "    l = len(i)\n",
        "    s = sum(i)\n",
        "\n",
        "    mean = s/l\n",
        "    mean_of_distances.append(mean)\n",
        "  return mean_of_distances"
      ],
      "metadata": {
        "id": "hUXgYUXI9Usb"
      },
      "execution_count": null,
      "outputs": []
    },
    {
      "cell_type": "code",
      "source": [
        "#(standard deviation)^2 = sum((occurences - mean)*(occurences-mean))/total number of ocurences\n",
        "def standard_deviation(distances,mean_of_distances):\n",
        "  ind = 0\n",
        "  stddev=[]\n",
        "  for i in distances:\n",
        "    temp = 0\n",
        "    for j in i:\n",
        "      sq = (mean_of_distances[ind] - j)**2\n",
        "      temp+=sq\n",
        "    ind += 1\n",
        "    stddev.append((temp/len(i))**0.5)\n",
        "    temp = 0\n",
        "  return stddev"
      ],
      "metadata": {
        "id": "0QwBPT4XDFsc"
      },
      "execution_count": null,
      "outputs": []
    },
    {
      "cell_type": "code",
      "source": [
        "#this returns treshhold values of all clusters\n",
        "def treshhold(stddev,mean_of_distances):\n",
        "  # ran = random.uniform(0,1)\n",
        "  ran = 0.5\n",
        "  tresh = []\n",
        "\n",
        "  for i,j in zip(mean_of_distances,stddev):\n",
        "    temp = i + (ran * j)\n",
        "    tresh.append(temp)\n",
        "  return tresh"
      ],
      "metadata": {
        "id": "NKdTqDjKGYlw"
      },
      "execution_count": null,
      "outputs": []
    },
    {
      "cell_type": "code",
      "source": [
        "#In this we take parameters as distances array from distances_from_centroid function\n",
        "#Another parameter is tresh 1d array from treshhold function\n",
        "#this function returns avg cutoff distance of each cluster\n",
        "def avg_cutoff_distance(distances,tresh):\n",
        "  avg_co = {}\n",
        "  cn = 0\n",
        "  for i,j in zip(distances,tresh):\n",
        "    temparr = [k for k in i if k<=j]\n",
        "    s = sum(temparr)\n",
        "    l = len(temparr)\n",
        "    temp = s/l\n",
        "    avg_co[cn] = temp\n",
        "    cn+=1\n",
        "  return avg_co"
      ],
      "metadata": {
        "id": "9qkaPG-WHekw"
      },
      "execution_count": null,
      "outputs": []
    },
    {
      "cell_type": "code",
      "source": [
        "#this function returns local density of a point\n",
        "#this function takes point, dictionary of points denoting clusters,avg cutoff distance of that cluster\n",
        "#this returns local densities array\n",
        "\n",
        "def local_density(dic,avg_co,ind):\n",
        "  temp = []\n",
        "  maxi = 0\n",
        "  for i in dic[ind]:\n",
        "    cn = 0\n",
        "    for j in dic[ind]:\n",
        "      d = distance_between_two_points(i,j)\n",
        "      maxi = max(d,maxi)\n",
        "      if d < avg_co[ind]:\n",
        "        cn+=1\n",
        "    temp.append(cn)\n",
        "  temp.append(maxi)\n",
        "  return temp"
      ],
      "metadata": {
        "id": "d_zJZbtElSb9"
      },
      "execution_count": null,
      "outputs": []
    },
    {
      "cell_type": "code",
      "source": [
        "#this function takes arguments as local_density of points, clusters, maxi array.\n",
        "def closest_distance_to_the_highest_density_points(local_densities,clusters,maxi,i):\n",
        "\n",
        "  arr_of_req=[]\n",
        "  for j in range(len(clusters[i])):\n",
        "\n",
        "    req_element = search(local_densities[i],local_densities[i][j])\n",
        "    req_index = local_densities[i].index(req_element)\n",
        "\n",
        "    temp =  distance_between_two_points(clusters[i][j],clusters[i][req_index])\n",
        "\n",
        "    if temp==0:\n",
        "      arr_of_req.append(maxi[i])\n",
        "    else:\n",
        "      arr_of_req.append(temp)\n",
        "\n",
        "  return arr_of_req"
      ],
      "metadata": {
        "id": "7bu7NUSR9lTb"
      },
      "execution_count": null,
      "outputs": []
    },
    {
      "cell_type": "code",
      "source": [
        "# this function takes keys of clusters dictionary,local density array, closest distance array\n",
        "# this function returns a dictionary conataining all clusters and their valuesas a 2d array of [[local_density,closest_distance]....]\n",
        "def ordered_pairs(clusters_keys,local_density,closest_distance):\n",
        "  pairs = OrderedDict()\n",
        "\n",
        "  for i in clusters_keys:\n",
        "    for j,k in zip(local_density[i],closest_distance[i]):\n",
        "      if i not in pairs.keys():\n",
        "        pairs[i] = [[j,k]]\n",
        "      else:\n",
        "        pairs[i].append([j,k])\n",
        "  return pairs"
      ],
      "metadata": {
        "id": "oolskBfegHBu"
      },
      "execution_count": null,
      "outputs": []
    },
    {
      "cell_type": "code",
      "source": [
        "# This function takes inputs as merge_pop array,local_densities 2d array,closest_distance_points 2d array\n",
        "def outlier_selection_strategy_1(Merge_POP,local_Densities,closest_distance_points):\n",
        "  final = []\n",
        "  for i in Merge_POP:\n",
        "    var = local_Densities[i[0]][i[1]]/closest_distance_points[i[0]][i[1]]\n",
        "    final.append(var)\n",
        "  return final"
      ],
      "metadata": {
        "id": "53lDLVfXsuMW"
      },
      "execution_count": null,
      "outputs": []
    },
    {
      "cell_type": "code",
      "source": [
        "# this function takes input as :\n",
        "# merge_pop = probable outliers 2d array of format => [[cluster number,index of point in main clusters array]...]\n",
        "# local_densities = local densities 2d array\n",
        "# closest_distance_points = 2d array of relative distances\n",
        "# std_dev,mean = 2d arrays of standard deviation and mean\n",
        "\n",
        "# this returns final 1d array of odf factors\n",
        "\n",
        "\n",
        "from math import exp,pi\n",
        "def outlier_selection_strategy_2(merge_pop,local_densities,closest_distance_points,std_dev,mean):\n",
        "  final = []\n",
        "  for i in merge_pop:\n",
        "    var = (local_densities[i[0]][i[1]] - mean[i[0]])**2\n",
        "    var /= (2*(std_dev[i[0]]**2))\n",
        "    var *= -1\n",
        "\n",
        "    var_new = exp(var)\n",
        "    denom = (2*pi*(std_dev[i[0]]**2))\n",
        "    func = var_new/denom\n",
        "\n",
        "    odf = closest_distance_points[i[0]][i[1]]*func\n",
        "\n",
        "    final.append(odf)\n",
        "  return final\n",
        "\n"
      ],
      "metadata": {
        "id": "ya88KPtXMNLR"
      },
      "execution_count": null,
      "outputs": []
    },
    {
      "cell_type": "markdown",
      "source": [
        "# **Prerequisites before entering into orginal process**\n"
      ],
      "metadata": {
        "id": "XI5QbhpmLHMY"
      }
    },
    {
      "cell_type": "code",
      "source": [
        "# Here mention name of dataset else mention its location to read it\n",
        "df = pd.read_csv(\"/content/Sat_train.csv\")"
      ],
      "metadata": {
        "id": "NS3l5mVZ7Mfe"
      },
      "execution_count": null,
      "outputs": []
    },
    {
      "cell_type": "code",
      "source": [
        "#This step indicates conversion of df from csv file to dataframe\n",
        "df = pd.DataFrame(df)"
      ],
      "metadata": {
        "id": "0gJEjjcS7kpR"
      },
      "execution_count": null,
      "outputs": []
    },
    {
      "cell_type": "code",
      "source": [
        "# checking of null values\n",
        "df.isnull().sum()"
      ],
      "metadata": {
        "colab": {
          "base_uri": "https://localhost:8080/"
        },
        "id": "xj6t7Wd37uFW",
        "outputId": "ef9ba43f-8439-4bac-e634-0cb3bd8d8973"
      },
      "execution_count": null,
      "outputs": [
        {
          "output_type": "execute_result",
          "data": {
            "text/plain": [
              "A        0\n",
              "B        0\n",
              "C        0\n",
              "D        0\n",
              "E        0\n",
              "F        0\n",
              "G        0\n",
              "H        0\n",
              "I        0\n",
              "J        0\n",
              "K        0\n",
              "L        0\n",
              "M        0\n",
              "N        0\n",
              "O        0\n",
              "P        0\n",
              "Q        0\n",
              "R        0\n",
              "S        0\n",
              "T        0\n",
              "U        0\n",
              "V        0\n",
              "W        0\n",
              "X        0\n",
              "Y        0\n",
              "Z        0\n",
              "AA       0\n",
              "AB       0\n",
              "AC       0\n",
              "AD       0\n",
              "AE       0\n",
              "AF       0\n",
              "AG       0\n",
              "AH       0\n",
              "AI       0\n",
              "AJ       0\n",
              "label    0\n",
              "dtype: int64"
            ]
          },
          "metadata": {},
          "execution_count": 50
        }
      ]
    },
    {
      "cell_type": "code",
      "source": [
        "# checking datatypes using info method\n",
        "df.info()"
      ],
      "metadata": {
        "colab": {
          "base_uri": "https://localhost:8080/"
        },
        "id": "ymWWVNhk70-P",
        "outputId": "0338d07c-707a-4de4-ad29-601416ed2778"
      },
      "execution_count": null,
      "outputs": [
        {
          "output_type": "stream",
          "name": "stdout",
          "text": [
            "<class 'pandas.core.frame.DataFrame'>\n",
            "RangeIndex: 4435 entries, 0 to 4434\n",
            "Data columns (total 37 columns):\n",
            " #   Column  Non-Null Count  Dtype\n",
            "---  ------  --------------  -----\n",
            " 0   A       4435 non-null   int64\n",
            " 1   B       4435 non-null   int64\n",
            " 2   C       4435 non-null   int64\n",
            " 3   D       4435 non-null   int64\n",
            " 4   E       4435 non-null   int64\n",
            " 5   F       4435 non-null   int64\n",
            " 6   G       4435 non-null   int64\n",
            " 7   H       4435 non-null   int64\n",
            " 8   I       4435 non-null   int64\n",
            " 9   J       4435 non-null   int64\n",
            " 10  K       4435 non-null   int64\n",
            " 11  L       4435 non-null   int64\n",
            " 12  M       4435 non-null   int64\n",
            " 13  N       4435 non-null   int64\n",
            " 14  O       4435 non-null   int64\n",
            " 15  P       4435 non-null   int64\n",
            " 16  Q       4435 non-null   int64\n",
            " 17  R       4435 non-null   int64\n",
            " 18  S       4435 non-null   int64\n",
            " 19  T       4435 non-null   int64\n",
            " 20  U       4435 non-null   int64\n",
            " 21  V       4435 non-null   int64\n",
            " 22  W       4435 non-null   int64\n",
            " 23  X       4435 non-null   int64\n",
            " 24  Y       4435 non-null   int64\n",
            " 25  Z       4435 non-null   int64\n",
            " 26  AA      4435 non-null   int64\n",
            " 27  AB      4435 non-null   int64\n",
            " 28  AC      4435 non-null   int64\n",
            " 29  AD      4435 non-null   int64\n",
            " 30  AE      4435 non-null   int64\n",
            " 31  AF      4435 non-null   int64\n",
            " 32  AG      4435 non-null   int64\n",
            " 33  AH      4435 non-null   int64\n",
            " 34  AI      4435 non-null   int64\n",
            " 35  AJ      4435 non-null   int64\n",
            " 36  label   4435 non-null   int64\n",
            "dtypes: int64(37)\n",
            "memory usage: 1.3 MB\n"
          ]
        }
      ]
    },
    {
      "cell_type": "code",
      "source": [
        "# Forming new dataframe using given data frames\n",
        "dfnew1 = list(df['A'][:1000])\n",
        "dfnew2 = list(df['label'][:1000])\n",
        "\n",
        "dfnew = []\n",
        "\n",
        "for i,j in zip(dfnew1,dfnew2):\n",
        "  dfnew.append([i,j])\n"
      ],
      "metadata": {
        "id": "UXJDg8jA8XmL"
      },
      "execution_count": null,
      "outputs": []
    },
    {
      "cell_type": "code",
      "source": [
        "5#from our dataset contating 19613 rows and 18 columns we take only 100 rows\n",
        "plt.scatter(df['A'][:1000],df['label'][:1000])\n",
        "plt.show()"
      ],
      "metadata": {
        "colab": {
          "base_uri": "https://localhost:8080/",
          "height": 430
        },
        "id": "qleSZL5E7_fo",
        "outputId": "a03c3605-ec6a-4516-c6b0-9bdd77a11b46"
      },
      "execution_count": null,
      "outputs": [
        {
          "output_type": "display_data",
          "data": {
            "text/plain": [
              "<Figure size 640x480 with 1 Axes>"
            ],
            "image/png": "[encoded data removed]"
          },
          "metadata": {}
        }
      ]
    },
    {
      "cell_type": "code",
      "source": [
        "# This snippet tries all clusters and gives us best fit\n",
        "from sklearn.cluster import KMeans\n",
        "wcss = []\n",
        "for i in range(1, 11):\n",
        "    kmeans = KMeans(n_clusters = i, init = 'k-means++', random_state = 42)\n",
        "    kmeans.fit(dfnew)\n",
        "    wcss.append(kmeans.inertia_)"
      ],
      "metadata": {
        "colab": {
          "base_uri": "https://localhost:8080/"
        },
        "id": "m_fHpkfS86Q1",
        "outputId": "d9e3c7fe-27d9-4759-c30d-f483a77926ab"
      },
      "execution_count": null,
      "outputs": [
        {
          "output_type": "stream",
          "name": "stderr",
          "text": [
            "/usr/local/lib/python3.10/dist-packages/sklearn/cluster/_kmeans.py:870: FutureWarning: The default value of `n_init` will change from 10 to 'auto' in 1.4. Set the value of `n_init` explicitly to suppress the warning\n",
            "  warnings.warn(\n",
            "/usr/local/lib/python3.10/dist-packages/sklearn/cluster/_kmeans.py:870: FutureWarning: The default value of `n_init` will change from 10 to 'auto' in 1.4. Set the value of `n_init` explicitly to suppress the warning\n",
            "  warnings.warn(\n",
            "/usr/local/lib/python3.10/dist-packages/sklearn/cluster/_kmeans.py:870: FutureWarning: The default value of `n_init` will change from 10 to 'auto' in 1.4. Set the value of `n_init` explicitly to suppress the warning\n",
            "  warnings.warn(\n",
            "/usr/local/lib/python3.10/dist-packages/sklearn/cluster/_kmeans.py:870: FutureWarning: The default value of `n_init` will change from 10 to 'auto' in 1.4. Set the value of `n_init` explicitly to suppress the warning\n",
            "  warnings.warn(\n",
            "/usr/local/lib/python3.10/dist-packages/sklearn/cluster/_kmeans.py:870: FutureWarning: The default value of `n_init` will change from 10 to 'auto' in 1.4. Set the value of `n_init` explicitly to suppress the warning\n",
            "  warnings.warn(\n",
            "/usr/local/lib/python3.10/dist-packages/sklearn/cluster/_kmeans.py:870: FutureWarning: The default value of `n_init` will change from 10 to 'auto' in 1.4. Set the value of `n_init` explicitly to suppress the warning\n",
            "  warnings.warn(\n",
            "/usr/local/lib/python3.10/dist-packages/sklearn/cluster/_kmeans.py:870: FutureWarning: The default value of `n_init` will change from 10 to 'auto' in 1.4. Set the value of `n_init` explicitly to suppress the warning\n",
            "  warnings.warn(\n",
            "/usr/local/lib/python3.10/dist-packages/sklearn/cluster/_kmeans.py:870: FutureWarning: The default value of `n_init` will change from 10 to 'auto' in 1.4. Set the value of `n_init` explicitly to suppress the warning\n",
            "  warnings.warn(\n",
            "/usr/local/lib/python3.10/dist-packages/sklearn/cluster/_kmeans.py:870: FutureWarning: The default value of `n_init` will change from 10 to 'auto' in 1.4. Set the value of `n_init` explicitly to suppress the warning\n",
            "  warnings.warn(\n",
            "/usr/local/lib/python3.10/dist-packages/sklearn/cluster/_kmeans.py:870: FutureWarning: The default value of `n_init` will change from 10 to 'auto' in 1.4. Set the value of `n_init` explicitly to suppress the warning\n",
            "  warnings.warn(\n"
          ]
        }
      ]
    },
    {
      "cell_type": "code",
      "source": [
        "# plotting graph to see elbow curve\n",
        "\n",
        "plt.plot(range(1,11),wcss)\n",
        "plt.show()"
      ],
      "metadata": {
        "colab": {
          "base_uri": "https://localhost:8080/",
          "height": 430
        },
        "id": "-CMskKpg9Sjt",
        "outputId": "05dd9077-9bd9-4649-a5c6-3f31d2a17904"
      },
      "execution_count": null,
      "outputs": [
        {
          "output_type": "display_data",
          "data": {
            "text/plain": [
              "<Figure size 640x480 with 1 Axes>"
            ],
            "image/png": "[encoded data removed]"
          },
          "metadata": {}
        }
      ]
    },
    {
      "cell_type": "code",
      "source": [
        "# from above we can say that no. of clusters should be 3\n",
        "# In this step we will store them\n",
        "\n",
        "df1 = np.array(dfnew)\n",
        "kmeans = KMeans(n_clusters=3).fit(df1)\n",
        "\n",
        "temp_clusters = OrderedDict()\n",
        "for i, label in enumerate(kmeans.labels_):\n",
        "    if label not in temp_clusters:\n",
        "        temp_clusters[label] = []\n",
        "    else:\n",
        "      temp = list(df1[i])\n",
        "      temp_clusters[label].append(temp)\n",
        "\n",
        "clusters = OrderedDict()\n",
        "\n",
        "for i in sorted(temp_clusters.keys()):\n",
        "  clusters[i] = temp_clusters[i]\n"
      ],
      "metadata": {
        "colab": {
          "base_uri": "https://localhost:8080/"
        },
        "id": "giHIXyKE9cB7",
        "outputId": "cb38e8d5-104a-4a8c-b29d-b62f9c7d12e5"
      },
      "execution_count": null,
      "outputs": [
        {
          "output_type": "stream",
          "name": "stderr",
          "text": [
            "/usr/local/lib/python3.10/dist-packages/sklearn/cluster/_kmeans.py:870: FutureWarning: The default value of `n_init` will change from 10 to 'auto' in 1.4. Set the value of `n_init` explicitly to suppress the warning\n",
            "  warnings.warn(\n"
          ]
        }
      ]
    },
    {
      "cell_type": "code",
      "source": [
        "# plotting of cluster - 0\n",
        "plt.scatter([i[0] for i in clusters[0]],[i[1] for i in clusters[0]])"
      ],
      "metadata": {
        "id": "Y9zJ8W5UE8b-",
        "colab": {
          "base_uri": "https://localhost:8080/",
          "height": 447
        },
        "outputId": "7ab348c8-08c0-45aa-ba87-07de3eef617e"
      },
      "execution_count": null,
      "outputs": [
        {
          "output_type": "execute_result",
          "data": {
            "text/plain": [
              "<matplotlib.collections.PathCollection at 0x7bd5f6c88250>"
            ]
          },
          "metadata": {},
          "execution_count": 57
        },
        {
          "output_type": "display_data",
          "data": {
            "text/plain": [
              "<Figure size 640x480 with 1 Axes>"
            ],
            "image/png": "[encoded data removed]"
          },
          "metadata": {}
        }
      ]
    },
    {
      "cell_type": "code",
      "source": [
        "# plotting of cluster - 1\n",
        "plt.scatter([i[0] for i in clusters[1]],[i[1] for i in clusters[1]])"
      ],
      "metadata": {
        "colab": {
          "base_uri": "https://localhost:8080/",
          "height": 447
        },
        "id": "Rza_ECimrRsG",
        "outputId": "52e8c1a7-bece-4924-b159-39cbb71d3469"
      },
      "execution_count": null,
      "outputs": [
        {
          "output_type": "execute_result",
          "data": {
            "text/plain": [
              "<matplotlib.collections.PathCollection at 0x7bd5f78927d0>"
            ]
          },
          "metadata": {},
          "execution_count": 58
        },
        {
          "output_type": "display_data",
          "data": {
            "text/plain": [
              "<Figure size 640x480 with 1 Axes>"
            ],
            "image/png": "[encoded data removed]"
          },
          "metadata": {}
        }
      ]
    },
    {
      "cell_type": "code",
      "source": [
        "# .plotting of cluster - 2\n",
        "plt.scatter([i[0] for i in clusters[2]],[i[1] for i in clusters[2]])"
      ],
      "metadata": {
        "colab": {
          "base_uri": "https://localhost:8080/",
          "height": 447
        },
        "id": "SslNtev9sLZy",
        "outputId": "f558d041-a930-4c96-e8db-9d29853aa79d"
      },
      "execution_count": null,
      "outputs": [
        {
          "output_type": "execute_result",
          "data": {
            "text/plain": [
              "<matplotlib.collections.PathCollection at 0x7bd5f6bd2890>"
            ]
          },
          "metadata": {},
          "execution_count": 59
        },
        {
          "output_type": "display_data",
          "data": {
            "text/plain": [
              "<Figure size 640x480 with 1 Axes>"
            ],
            "image/png": "[encoded data removed]"
          },
          "metadata": {}
        }
      ]
    },
    {
      "cell_type": "markdown",
      "source": [
        "\n",
        "# This is Main() Function"
      ],
      "metadata": {
        "id": "EPAK8qF6C7KS"
      }
    },
    {
      "cell_type": "code",
      "source": [
        "#step 1 : get centroid of clusters for this we can use bruteforce\n",
        "\n",
        "centroid = np.array(kmeans.cluster_centers_)\n",
        "\n"
      ],
      "metadata": {
        "id": "BPmDwFjT9zHd"
      },
      "execution_count": null,
      "outputs": []
    },
    {
      "cell_type": "code",
      "source": [
        "#step 2 : calculate distances from centroid and store it in distances array\n",
        "\n",
        "distances = distance_from_centroid(clusters,centroid)"
      ],
      "metadata": {
        "id": "UU3wz_KQ_Hju"
      },
      "execution_count": null,
      "outputs": []
    },
    {
      "cell_type": "code",
      "source": [
        "#step 3 : calculate mean of distances\n",
        "\n",
        "avg_distances = mean(distances)"
      ],
      "metadata": {
        "id": "eEz948csDvNj"
      },
      "execution_count": null,
      "outputs": []
    },
    {
      "cell_type": "code",
      "source": [
        "#step 4 : calculate standard deviation of distances\n",
        "\n",
        "std_dev = standard_deviation(distances,avg_distances)"
      ],
      "metadata": {
        "id": "xLFy1vNYG8lk"
      },
      "execution_count": null,
      "outputs": []
    },
    {
      "cell_type": "code",
      "source": [
        "#step 5 : calculate tresh hold values from mean and standard deviation\n",
        "\n",
        "tresh = treshhold(std_dev,avg_distances)"
      ],
      "metadata": {
        "id": "MxR4EUkEHS79"
      },
      "execution_count": null,
      "outputs": []
    },
    {
      "cell_type": "code",
      "source": [
        "#step 6 : calculate average cutoff distance\n",
        "\n",
        "avg_cd = avg_cutoff_distance(distances,tresh)\n"
      ],
      "metadata": {
        "id": "59aVXV8DHq1N"
      },
      "execution_count": null,
      "outputs": []
    },
    {
      "cell_type": "code",
      "source": [
        "# step 7 : calculate local_density and max distance of each cluster\n",
        "\n",
        "max_values = []\n",
        "local_densities=[]\n",
        "for i in clusters.keys():\n",
        "  temp = local_density(clusters,avg_cd,i)\n",
        "  m = temp[-1]\n",
        "  temp.pop(-1)\n",
        "  local_densities.append(temp)\n",
        "  max_values.append(m)\n",
        "\n",
        "\n"
      ],
      "metadata": {
        "id": "RMNBlY4dIT7p"
      },
      "execution_count": null,
      "outputs": []
    },
    {
      "cell_type": "code",
      "source": [
        "# step 8 : calculating closest distance to highest density points for each point\n",
        "closest_distance = []\n",
        "\n",
        "for i in clusters.keys():\n",
        "  temp = closest_distance_to_the_highest_density_points(local_densities,clusters,max_values,i)\n",
        "  closest_distance.append(temp)\n"
      ],
      "metadata": {
        "id": "VpBWxOh7N8u3"
      },
      "execution_count": null,
      "outputs": []
    },
    {
      "cell_type": "code",
      "source": [
        "# step 9 : plotting points with closest_distance on x axis and local_densities on y axis\n",
        "\n",
        "for i in clusters.keys():\n",
        "  plt.scatter(local_densities[i], closest_distance[i])\n"
      ],
      "metadata": {
        "id": "4XPys4-XXTd4",
        "colab": {
          "base_uri": "https://localhost:8080/",
          "height": 430
        },
        "outputId": "d1129e90-67b9-4330-cd92-a8fa27d3d16b"
      },
      "execution_count": null,
      "outputs": [
        {
          "output_type": "display_data",
          "data": {
            "text/plain": [
              "<Figure size 640x480 with 1 Axes>"
            ],
            "image/png": "[encoded data removed]"
          },
          "metadata": {}
        }
      ]
    },
    {
      "cell_type": "code",
      "source": [
        "# step 10 : Merge_POP array selection from all points\n",
        "\n",
        "pairs = ordered_pairs(clusters.keys(),local_densities,closest_distance)"
      ],
      "metadata": {
        "id": "ssI_48ZPZUtD"
      },
      "execution_count": null,
      "outputs": []
    },
    {
      "cell_type": "code",
      "source": [
        "# this part gives us the lower and upper boundary of each and every cluster using IQR\n",
        "local_density_range = []\n",
        "closest_distance_range = []\n",
        "for i in clusters.keys():\n",
        "  local_density_range.append(outlier_range(local_densities[i]))\n",
        "  closest_distance_range.append(outlier_range(closest_distance[i]))\n"
      ],
      "metadata": {
        "id": "G54N2Zim0MFJ"
      },
      "execution_count": null,
      "outputs": []
    },
    {
      "cell_type": "code",
      "source": [
        "# this boolean function checks if the pairs lies in our range or not\n",
        "# this takes input parameters as local_density,closest_distance_range array,pair array\n",
        "\n",
        "def check(local_density_range,closest_distance_range,keys,pair):\n",
        "  cn1=0\n",
        "  cn2=0\n",
        "  for i in keys:\n",
        "    if (pair[0] >= local_density_range[i][0] and pair[0]<=local_density_range[i][1]):\n",
        "      cn1+=1\n",
        "    if (pair[1])>=closest_distance_range[i][0] and pair[1]<=closest_distance_range[i][1]:\n",
        "      cn2+=1\n",
        "  if(cn1==0 or cn2==0):\n",
        "    return True\n",
        "  else:\n",
        "    return False\n"
      ],
      "metadata": {
        "id": "UldmazXq6ktO"
      },
      "execution_count": null,
      "outputs": []
    },
    {
      "cell_type": "code",
      "source": [
        "# getting outliers from the\n",
        "points_dict = OrderedDict()\n",
        "\n",
        "for i in clusters.keys():\n",
        "  for j in pairs[i]:\n",
        "    if (check(local_density_range,closest_distance_range,clusters.keys(),j)):\n",
        "      temp = pairs[i].index(j)\n",
        "      val = clusters[i][temp]\n",
        "      if i not in points_dict:\n",
        "        points_dict[i] = [val]\n",
        "      else:\n",
        "        points_dict[i].append(val)\n",
        "\n"
      ],
      "metadata": {
        "id": "3FSORcsH_6DZ"
      },
      "execution_count": null,
      "outputs": []
    },
    {
      "cell_type": "code",
      "source": [
        "# probable local and global outliers from clusters using IQR\n",
        "points_dict"
      ],
      "metadata": {
        "colab": {
          "base_uri": "https://localhost:8080/"
        },
        "id": "V5lsMqRUAp1e",
        "outputId": "7d849cb5-af30-4d1c-d762-4f26d4e17bbc"
      },
      "execution_count": null,
      "outputs": [
        {
          "output_type": "execute_result",
          "data": {
            "text/plain": [
              "OrderedDict([(0,\n",
              "              [[101, 3],\n",
              "               [102, 3],\n",
              "               [102, 3],\n",
              "               [96, 3],\n",
              "               [96, 3],\n",
              "               [89, 3],\n",
              "               [89, 3],\n",
              "               [89, 3],\n",
              "               [89, 3],\n",
              "               [89, 3],\n",
              "               [89, 3],\n",
              "               [89, 3],\n",
              "               [89, 3],\n",
              "               [89, 3],\n",
              "               [89, 3],\n",
              "               [89, 3],\n",
              "               [89, 3],\n",
              "               [89, 3],\n",
              "               [89, 3],\n",
              "               [89, 3],\n",
              "               [89, 3],\n",
              "               [88, 7],\n",
              "               [88, 7],\n",
              "               [96, 3],\n",
              "               [96, 3],\n",
              "               [83, 5],\n",
              "               [89, 3],\n",
              "               [89, 3],\n",
              "               [89, 3],\n",
              "               [89, 3],\n",
              "               [89, 3],\n",
              "               [89, 3],\n",
              "               [89, 3],\n",
              "               [89, 3],\n",
              "               [89, 3],\n",
              "               [89, 3],\n",
              "               [89, 3],\n",
              "               [82, 5],\n",
              "               [88, 7],\n",
              "               [101, 3],\n",
              "               [96, 3]]),\n",
              "             (1,\n",
              "              [[46, 2],\n",
              "               [46, 2],\n",
              "               [46, 2],\n",
              "               [46, 2],\n",
              "               [46, 2],\n",
              "               [46, 2],\n",
              "               [46, 2],\n",
              "               [46, 2],\n",
              "               [46, 2],\n",
              "               [46, 2],\n",
              "               [46, 2],\n",
              "               [46, 2],\n",
              "               [46, 2],\n",
              "               [46, 2],\n",
              "               [46, 2],\n",
              "               [46, 2],\n",
              "               [46, 2],\n",
              "               [46, 2],\n",
              "               [46, 2],\n",
              "               [46, 2],\n",
              "               [46, 2],\n",
              "               [46, 2],\n",
              "               [46, 2],\n",
              "               [46, 2],\n",
              "               [46, 2],\n",
              "               [46, 2],\n",
              "               [46, 2],\n",
              "               [46, 2],\n",
              "               [46, 2],\n",
              "               [46, 2],\n",
              "               [46, 2],\n",
              "               [46, 2],\n",
              "               [46, 2],\n",
              "               [46, 2],\n",
              "               [46, 2],\n",
              "               [46, 2],\n",
              "               [46, 2],\n",
              "               [46, 2],\n",
              "               [46, 2],\n",
              "               [46, 2],\n",
              "               [46, 2],\n",
              "               [46, 2],\n",
              "               [46, 2],\n",
              "               [46, 2],\n",
              "               [46, 2],\n",
              "               [46, 2],\n",
              "               [46, 2],\n",
              "               [46, 2],\n",
              "               [46, 2],\n",
              "               [46, 2],\n",
              "               [46, 2],\n",
              "               [46, 2]]),\n",
              "             (2,\n",
              "              [[68, 4],\n",
              "               [68, 4],\n",
              "               [68, 4],\n",
              "               [68, 4],\n",
              "               [80, 5],\n",
              "               [64, 7],\n",
              "               [68, 7],\n",
              "               [80, 4],\n",
              "               [80, 4],\n",
              "               [68, 4],\n",
              "               [68, 4],\n",
              "               [68, 4],\n",
              "               [66, 7],\n",
              "               [66, 7],\n",
              "               [80, 4],\n",
              "               [80, 4],\n",
              "               [80, 4],\n",
              "               [80, 4],\n",
              "               [80, 4],\n",
              "               [68, 7],\n",
              "               [68, 7],\n",
              "               [79, 7],\n",
              "               [66, 7],\n",
              "               [78, 5],\n",
              "               [80, 5],\n",
              "               [64, 7],\n",
              "               [64, 7],\n",
              "               [64, 7],\n",
              "               [68, 7],\n",
              "               [64, 7],\n",
              "               [68, 7],\n",
              "               [80, 5],\n",
              "               [68, 7],\n",
              "               [68, 7],\n",
              "               [68, 7],\n",
              "               [64, 7],\n",
              "               [79, 7]])])"
            ]
          },
          "metadata": {},
          "execution_count": 73
        }
      ]
    },
    {
      "cell_type": "code",
      "source": [
        "# plotting of outliers\n",
        "for i in points_dict.keys():\n",
        "  plt.scatter([k[0] for k in points_dict[i]],[k[1] for k in points_dict[i]])"
      ],
      "metadata": {
        "id": "SDrQSyOODN_W",
        "colab": {
          "base_uri": "https://localhost:8080/",
          "height": 430
        },
        "outputId": "21d5b690-9770-4c87-f576-40694ba40a9c"
      },
      "execution_count": null,
      "outputs": [
        {
          "output_type": "display_data",
          "data": {
            "text/plain": [
              "<Figure size 640x480 with 1 Axes>"
            ],
            "image/png": "[encoded data removed]"
          },
          "metadata": {}
        }
      ]
    },
    {
      "cell_type": "code",
      "source": [
        "# Storing the probable outliers in merge_pop array\n",
        "merge_pop = []\n",
        "for i in points_dict.keys():\n",
        "  for j in points_dict[i]:\n",
        "    merge_pop.append([i,clusters[i].index(j)])\n",
        "merge_pop"
      ],
      "metadata": {
        "id": "RfiR4kNusLys",
        "colab": {
          "base_uri": "https://localhost:8080/"
        },
        "outputId": "a2cdf3ee-70bb-4a2b-9c27-a06b39773283"
      },
      "execution_count": null,
      "outputs": [
        {
          "output_type": "execute_result",
          "data": {
            "text/plain": [
              "[[0, 26],\n",
              " [0, 61],\n",
              " [0, 61],\n",
              " [0, 138],\n",
              " [0, 138],\n",
              " [0, 193],\n",
              " [0, 193],\n",
              " [0, 193],\n",
              " [0, 193],\n",
              " [0, 193],\n",
              " [0, 193],\n",
              " [0, 193],\n",
              " [0, 193],\n",
              " [0, 193],\n",
              " [0, 193],\n",
              " [0, 193],\n",
              " [0, 193],\n",
              " [0, 193],\n",
              " [0, 193],\n",
              " [0, 193],\n",
              " [0, 193],\n",
              " [0, 329],\n",
              " [0, 329],\n",
              " [0, 138],\n",
              " [0, 138],\n",
              " [0, 395],\n",
              " [0, 193],\n",
              " [0, 193],\n",
              " [0, 193],\n",
              " [0, 193],\n",
              " [0, 193],\n",
              " [0, 193],\n",
              " [0, 193],\n",
              " [0, 193],\n",
              " [0, 193],\n",
              " [0, 193],\n",
              " [0, 193],\n",
              " [0, 423],\n",
              " [0, 329],\n",
              " [0, 26],\n",
              " [0, 138],\n",
              " [1, 12],\n",
              " [1, 12],\n",
              " [1, 12],\n",
              " [1, 12],\n",
              " [1, 12],\n",
              " [1, 12],\n",
              " [1, 12],\n",
              " [1, 12],\n",
              " [1, 12],\n",
              " [1, 12],\n",
              " [1, 12],\n",
              " [1, 12],\n",
              " [1, 12],\n",
              " [1, 12],\n",
              " [1, 12],\n",
              " [1, 12],\n",
              " [1, 12],\n",
              " [1, 12],\n",
              " [1, 12],\n",
              " [1, 12],\n",
              " [1, 12],\n",
              " [1, 12],\n",
              " [1, 12],\n",
              " [1, 12],\n",
              " [1, 12],\n",
              " [1, 12],\n",
              " [1, 12],\n",
              " [1, 12],\n",
              " [1, 12],\n",
              " [1, 12],\n",
              " [1, 12],\n",
              " [1, 12],\n",
              " [1, 12],\n",
              " [1, 12],\n",
              " [1, 12],\n",
              " [1, 12],\n",
              " [1, 12],\n",
              " [1, 12],\n",
              " [1, 12],\n",
              " [1, 12],\n",
              " [1, 12],\n",
              " [1, 12],\n",
              " [1, 12],\n",
              " [1, 12],\n",
              " [1, 12],\n",
              " [1, 12],\n",
              " [1, 12],\n",
              " [1, 12],\n",
              " [1, 12],\n",
              " [1, 12],\n",
              " [1, 12],\n",
              " [1, 12],\n",
              " [2, 9],\n",
              " [2, 9],\n",
              " [2, 9],\n",
              " [2, 9],\n",
              " [2, 15],\n",
              " [2, 17],\n",
              " [2, 20],\n",
              " [2, 27],\n",
              " [2, 27],\n",
              " [2, 9],\n",
              " [2, 9],\n",
              " [2, 9],\n",
              " [2, 88],\n",
              " [2, 88],\n",
              " [2, 27],\n",
              " [2, 27],\n",
              " [2, 27],\n",
              " [2, 27],\n",
              " [2, 27],\n",
              " [2, 20],\n",
              " [2, 20],\n",
              " [2, 163],\n",
              " [2, 88],\n",
              " [2, 204],\n",
              " [2, 15],\n",
              " [2, 17],\n",
              " [2, 17],\n",
              " [2, 17],\n",
              " [2, 20],\n",
              " [2, 17],\n",
              " [2, 20],\n",
              " [2, 15],\n",
              " [2, 20],\n",
              " [2, 20],\n",
              " [2, 20],\n",
              " [2, 17],\n",
              " [2, 163]]"
            ]
          },
          "metadata": {},
          "execution_count": 75
        }
      ]
    },
    {
      "cell_type": "code",
      "source": [
        "# Step 11 - calculating ODF of points\n",
        "# Applying outlier selection startegy and calculating odf of all points\n",
        "odf = outlier_selection_strategy_2(merge_pop,local_densities,closest_distance,std_dev,avg_distances)"
      ],
      "metadata": {
        "id": "sMqx39iuxQVa"
      },
      "execution_count": null,
      "outputs": []
    },
    {
      "cell_type": "code",
      "source": [
        "# lets map odf values with merge_pop array\n",
        "\n",
        "mp = OrderedDict()\n",
        "for i,j in zip(odf,merge_pop):\n",
        "  mp[i] = j"
      ],
      "metadata": {
        "id": "oxvdt_LZxjXS"
      },
      "execution_count": null,
      "outputs": []
    },
    {
      "cell_type": "code",
      "source": [
        "# sorting of odf\n",
        "odf.sort()"
      ],
      "metadata": {
        "id": "Lbge5x59zcSW"
      },
      "execution_count": null,
      "outputs": []
    },
    {
      "cell_type": "code",
      "source": [
        "# From these select top N\n",
        "print(\"Total no. of outliers are  : \",len(odf)-1)\n",
        "N = int(input(\"Enter no. of outliers u want : \"))\n",
        "if N>=len(odf):\n",
        "  print(\"Entered number is more than length of outliers array\")\n",
        "else:\n",
        "  final_outliers = []\n",
        "\n",
        "  final_outliers_range =  OrderedDict()\n",
        "\n",
        "  for i in odf[:N]:\n",
        "      temp = mp[i]\n",
        "      final_outliers.append(clusters[temp[0]][temp[1]])\n",
        "      if mp[i][0] in final_outliers_range.keys():\n",
        "          final_outliers_range[mp[i][0]].append(clusters[mp[i][0]][mp[i][1]])\n",
        "      else:\n",
        "        final_outliers_range[mp[i][0]] = [clusters[mp[i][0]][mp[i][1]]]\n",
        "\n",
        "\n",
        "  print(final_outliers_range)\n",
        "  print(len(final_outliers_range[0])+len(final_outliers_range[1])+len(final_outliers_range[2]))"
      ],
      "metadata": {
        "id": "W0OX6-BK1VZj",
        "colab": {
          "base_uri": "https://localhost:8080/",
          "height": 282
        },
        "outputId": "6f36b392-702d-4d04-dde7-7e47035622d1"
      },
      "execution_count": null,
      "outputs": [
        {
          "output_type": "stream",
          "name": "stdout",
          "text": [
            "Total no. of outliers are  :  129\n",
            "Enter no. of outliers u want : 129\n",
            "OrderedDict([(2, [[78, 5], [78, 5], [78, 5], [78, 5], [78, 5], [78, 5], [78, 5], [78, 5], [78, 5], [78, 5], [78, 5], [78, 5], [78, 5], [78, 5], [78, 5], [78, 5], [78, 5], [78, 5], [78, 5], [78, 5], [78, 5], [78, 5], [78, 5], [78, 5], [78, 5], [78, 5], [78, 5], [78, 5], [78, 5], [78, 5], [78, 5], [78, 5], [78, 5], [78, 5], [78, 5], [78, 5], [78, 5], [78, 5], [78, 5], [78, 5], [78, 5], [78, 5], [78, 5], [78, 5], [78, 5], [78, 5], [78, 5], [78, 5], [78, 5], [78, 5], [78, 5], [78, 5], [78, 5], [78, 5], [78, 5], [78, 5], [78, 5], [78, 5], [78, 5], [78, 5], [78, 5], [78, 5], [78, 5], [78, 5], [78, 5], [78, 5], [78, 5], [78, 5], [78, 5], [78, 5], [78, 5], [78, 5], [78, 5], [78, 5], [78, 5], [78, 5], [78, 5], [78, 5], [78, 5], [78, 5], [68, 7], [68, 7], [68, 7], [68, 7], [68, 7], [68, 7], [68, 7], [68, 7], [80, 5], [80, 5], [80, 5], [80, 4], [80, 4], [80, 4], [80, 4], [80, 4], [80, 4], [80, 4], [68, 4], [68, 4], [68, 4], [68, 4], [68, 4], [68, 4], [68, 4], [66, 7], [66, 7], [66, 7], [79, 7], [79, 7], [64, 7], [64, 7], [64, 7], [64, 7], [64, 7], [64, 7]]), (0, [[96, 3], [96, 3], [96, 3], [96, 3], [96, 3], [83, 5], [82, 5], [101, 3], [101, 3], [102, 3], [102, 3], [88, 7], [88, 7]])])\n"
          ]
        },
        {
          "output_type": "error",
          "ename": "KeyError",
          "evalue": "ignored",
          "traceback": [
            "\u001b[0;31m---------------------------------------------------------------------------\u001b[0m",
            "\u001b[0;31mKeyError\u001b[0m                                  Traceback (most recent call last)",
            "\u001b[0;32m<ipython-input-79-f7dd4f7f8eb9>\u001b[0m in \u001b[0;36m<cell line: 4>\u001b[0;34m()\u001b[0m\n\u001b[1;32m     19\u001b[0m \u001b[0;34m\u001b[0m\u001b[0m\n\u001b[1;32m     20\u001b[0m   \u001b[0mprint\u001b[0m\u001b[0;34m(\u001b[0m\u001b[0mfinal_outliers_range\u001b[0m\u001b[0;34m)\u001b[0m\u001b[0;34m\u001b[0m\u001b[0;34m\u001b[0m\u001b[0m\n\u001b[0;32m---> 21\u001b[0;31m   \u001b[0mprint\u001b[0m\u001b[0;34m(\u001b[0m\u001b[0mlen\u001b[0m\u001b[0;34m(\u001b[0m\u001b[0mfinal_outliers_range\u001b[0m\u001b[0;34m[\u001b[0m\u001b[0;36m0\u001b[0m\u001b[0;34m]\u001b[0m\u001b[0;34m)\u001b[0m\u001b[0;34m+\u001b[0m\u001b[0mlen\u001b[0m\u001b[0;34m(\u001b[0m\u001b[0mfinal_outliers_range\u001b[0m\u001b[0;34m[\u001b[0m\u001b[0;36m1\u001b[0m\u001b[0;34m]\u001b[0m\u001b[0;34m)\u001b[0m\u001b[0;34m+\u001b[0m\u001b[0mlen\u001b[0m\u001b[0;34m(\u001b[0m\u001b[0mfinal_outliers_range\u001b[0m\u001b[0;34m[\u001b[0m\u001b[0;36m2\u001b[0m\u001b[0;34m]\u001b[0m\u001b[0;34m)\u001b[0m\u001b[0;34m)\u001b[0m\u001b[0;34m\u001b[0m\u001b[0;34m\u001b[0m\u001b[0m\n\u001b[0m",
            "\u001b[0;31mKeyError\u001b[0m: 1"
          ]
        }
      ]
    },
    {
      "cell_type": "markdown",
      "source": [
        "# **Verification**"
      ],
      "metadata": {
        "id": "LAi1v6U-RV62"
      }
    },
    {
      "cell_type": "code",
      "source": [
        "f = plt.figure(figsize = (15,15))\n",
        "ax = f.add_subplot(111,projection = '3d')\n",
        "\n",
        "plt.scatter([i[0] for i in clusters[0]],[i[1] for i in clusters[0]],s = 100)\n",
        "plt.scatter([i[0] for i in final_outliers],[i[1] for i in final_outliers],s = 100,color = \"red\")\n",
        "\n",
        "plt.show()"
      ],
      "metadata": {
        "id": "jWgfqqSOXz9L"
      },
      "execution_count": null,
      "outputs": []
    },
    {
      "cell_type": "code",
      "source": [
        "f = plt.figure(figsize = (15,15))\n",
        "ax = f.add_subplot(111,projection = '3d')\n",
        "\n",
        "plt.scatter([i[0] for i in clusters[1]],[i[1] for i in clusters[1]],s=100)\n",
        "plt.scatter([i[0] for i in final_outliers_range[1]],[i[1] for i in final_outliers_range[1]],s=100,color = \"red\")\n",
        "\n",
        "plt.show()"
      ],
      "metadata": {
        "id": "MLiutM1PZeyA"
      },
      "execution_count": null,
      "outputs": []
    },
    {
      "cell_type": "code",
      "source": [
        "f = plt.figure(figsize = (15,15))\n",
        "ax = f.add_subplot(111,projection = '3d')\n",
        "\n",
        "plt.scatter([i[0] for i in clusters[2]],[i[1] for i in clusters[2]],s=100)\n",
        "plt.scatter([i[0] for i in final_outliers_range[2]],[i[1] for i in final_outliers_range[2]],s = 100,color = \"red\")\n",
        "\n",
        "plt.show()"
      ],
      "metadata": {
        "id": "IBsnGITwvERw"
      },
      "execution_count": null,
      "outputs": []
    },
    {
      "cell_type": "code",
      "source": [
        "from ctypes import c_int16\n",
        "from sklearn.neighbors import LocalOutlierFactor\n",
        "import numpy as np\n",
        "\n",
        "\n",
        "clf = LocalOutlierFactor(n_neighbors=3,contamination=0.3)\n",
        "y_pred = clf.fit_predict(dfnew)\n",
        "\n",
        "outliers_1=[]\n",
        "for i,j in zip(dfnew,list(y_pred)):\n",
        "  if j==-1:\n",
        "    outliers_1.append(i)\n",
        "\n",
        "tp1 = 0\n",
        "for i in outliers_1:\n",
        "  for j in clusters.keys():\n",
        "    if i in final_outliers_range[j]:\n",
        "      tp1+=1\n",
        "      break\n"
      ],
      "metadata": {
        "id": "2Hu-7sPtZda9"
      },
      "execution_count": null,
      "outputs": []
    },
    {
      "cell_type": "code",
      "source": [
        "print(\"Using LocalOutlierFactor Algorithm : \\n\")\n",
        "print(\"True positivity is : \",tp1)"
      ],
      "metadata": {
        "id": "yzeNUCEa9MLL"
      },
      "execution_count": null,
      "outputs": []
    }
  ]
}